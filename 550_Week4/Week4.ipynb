{
 "cells": [
  {
   "cell_type": "code",
   "execution_count": 11,
   "metadata": {},
   "outputs": [],
   "source": [
    "import pandas as pd"
   ]
  },
  {
   "cell_type": "code",
   "execution_count": 12,
   "metadata": {},
   "outputs": [],
   "source": [
    "df = pd.read_csv('dailycomments.csv')"
   ]
  },
  {
   "cell_type": "code",
   "execution_count": 13,
   "metadata": {},
   "outputs": [
    {
     "data": {
      "text/html": [
       "<div>\n",
       "<style scoped>\n",
       "    .dataframe tbody tr th:only-of-type {\n",
       "        vertical-align: middle;\n",
       "    }\n",
       "\n",
       "    .dataframe tbody tr th {\n",
       "        vertical-align: top;\n",
       "    }\n",
       "\n",
       "    .dataframe thead th {\n",
       "        text-align: right;\n",
       "    }\n",
       "</style>\n",
       "<table border=\"1\" class=\"dataframe\">\n",
       "  <thead>\n",
       "    <tr style=\"text-align: right;\">\n",
       "      <th></th>\n",
       "      <th>Day of Week</th>\n",
       "      <th>comments</th>\n",
       "    </tr>\n",
       "  </thead>\n",
       "  <tbody>\n",
       "    <tr>\n",
       "      <th>0</th>\n",
       "      <td>Monday</td>\n",
       "      <td>Hello, how are you?</td>\n",
       "    </tr>\n",
       "    <tr>\n",
       "      <th>1</th>\n",
       "      <td>Tuesday</td>\n",
       "      <td>Today is a good day!</td>\n",
       "    </tr>\n",
       "    <tr>\n",
       "      <th>2</th>\n",
       "      <td>Wednesday</td>\n",
       "      <td>It's my birthday so it's a really special day!</td>\n",
       "    </tr>\n",
       "    <tr>\n",
       "      <th>3</th>\n",
       "      <td>Thursday</td>\n",
       "      <td>Today is neither a good day or a bad day!</td>\n",
       "    </tr>\n",
       "    <tr>\n",
       "      <th>4</th>\n",
       "      <td>Friday</td>\n",
       "      <td>I'm having a bad day.</td>\n",
       "    </tr>\n",
       "  </tbody>\n",
       "</table>\n",
       "</div>"
      ],
      "text/plain": [
       "  Day of Week                                        comments\n",
       "0      Monday                             Hello, how are you?\n",
       "1     Tuesday                            Today is a good day!\n",
       "2   Wednesday  It's my birthday so it's a really special day!\n",
       "3    Thursday       Today is neither a good day or a bad day!\n",
       "4      Friday                           I'm having a bad day."
      ]
     },
     "execution_count": 13,
     "metadata": {},
     "output_type": "execute_result"
    }
   ],
   "source": [
    "df.head()"
   ]
  },
  {
   "cell_type": "markdown",
   "metadata": {},
   "source": [
    "pip install vaderSentiment"
   ]
  },
  {
   "cell_type": "code",
   "execution_count": 14,
   "metadata": {},
   "outputs": [],
   "source": [
    "from nltk.sentiment.vader import SentimentIntensityAnalyzer"
   ]
  },
  {
   "cell_type": "code",
   "execution_count": 15,
   "metadata": {},
   "outputs": [],
   "source": [
    "import nltk"
   ]
  },
  {
   "cell_type": "code",
   "execution_count": 27,
   "metadata": {},
   "outputs": [
    {
     "name": "stdout",
     "output_type": "stream",
     "text": [
      "\n",
      "1st statement :\n",
      "Overall sentiment dictionary is :  {'neg': 0.0, 'neu': 1.0, 'pos': 0.0, 'compound': 0.0}\n",
      "Sentence was rated as  0.0 % Negative\n",
      "Sentence was rated as  100.0 % Neutral\n",
      "Sentence was rated as  0.0 % Positive\n",
      "The overall rating of this sentence is:  Neutral\n",
      "\n",
      "2nd Statement :\n",
      "Overall sentiment dictionary is :  {'neg': 0.0, 'neu': 0.556, 'pos': 0.444, 'compound': 0.4926}\n",
      "Sentence was rated as  0.0 % Negative\n",
      "Sentence was rated as  55.60000000000001 % Neutral\n",
      "Sentence was rated as  44.4 % Positive\n",
      "The overall rating of this sentence is:  Positive\n",
      "\n",
      "3rd Statement :\n",
      "Overall sentiment dictionary is :  {'neg': 0.0, 'neu': 0.709, 'pos': 0.291, 'compound': 0.5081}\n",
      "Sentence was rated as  0.0 % Negative\n",
      "Sentence was rated as  70.89999999999999 % Neutral\n",
      "Sentence was rated as  29.099999999999998 % Positive\n",
      "The overall rating of this sentence is:  Positive\n",
      "\n",
      "4th Statement :\n",
      "Overall sentiment dictionary is :  {'neg': 0.437, 'neu': 0.563, 'pos': 0.0, 'compound': -0.735}\n",
      "Sentence was rated as  43.7 % Negative\n",
      "Sentence was rated as  56.3 % Neutral\n",
      "Sentence was rated as  0.0 % Positive\n",
      "The overall rating of this sentence is:  Negative\n",
      "\n",
      "5th Statement :\n",
      "Overall sentiment dictionary is :  {'neg': 0.467, 'neu': 0.533, 'pos': 0.0, 'compound': -0.5423}\n",
      "Sentence was rated as  46.7 % Negative\n",
      "Sentence was rated as  53.300000000000004 % Neutral\n",
      "Sentence was rated as  0.0 % Positive\n",
      "The overall rating of this sentence is:  Negative\n"
     ]
    }
   ],
   "source": [
    "from vaderSentiment.vaderSentiment import SentimentIntensityAnalyzer \n",
    "  \n",
    "def sentiment_scores(sentence): \n",
    "  \n",
    "    object = SentimentIntensityAnalyzer() \n",
    "\n",
    "    sentiment_dict = object.polarity_scores(sentence) \n",
    "      \n",
    "    print(\"Overall sentiment dictionary is : \", sentiment_dict) \n",
    "    print(\"Sentence was rated as \", sentiment_dict['neg']*100, \"% Negative\") \n",
    "    print(\"Sentence was rated as \", sentiment_dict['neu']*100, \"% Neutral\") \n",
    "    print(\"Sentence was rated as \", sentiment_dict['pos']*100, \"% Positive\") \n",
    "  \n",
    "    print(\"The overall rating of this sentence is: \", end = \" \") \n",
    "  \n",
    "   \n",
    "    if sentiment_dict['compound'] >= 0.05 : \n",
    "        print(\"Positive\") \n",
    "  \n",
    "    elif sentiment_dict['compound'] <= - 0.05 : \n",
    "        print(\"Negative\") \n",
    "  \n",
    "    else : \n",
    "        print(\"Neutral\") \n",
    "  \n",
    "\n",
    "if __name__ == \"__main__\" : \n",
    "  \n",
    "    print(\"\\n1st statement :\") \n",
    "    sentence = \"Hello, how are you?\" \n",
    "    sentiment_scores(sentence) \n",
    "  \n",
    "    print(\"\\n2nd Statement :\") \n",
    "    sentence = \"Today is a good day!\"\n",
    "    sentiment_scores(sentence) \n",
    "  \n",
    "    print(\"\\n3rd Statement :\") \n",
    "    sentence = \"It's my birthday so it's a really special day!\"\n",
    "    sentiment_scores(sentence) \n",
    "    \n",
    "    print(\"\\n4th Statement :\") \n",
    "    sentence = \"Today is neither a good day or a bad day!\"\n",
    "    sentiment_scores(sentence) \n",
    "    \n",
    "    print(\"\\n5th Statement :\") \n",
    "    sentence = \"I'm having a bad day.\"\n",
    "    sentiment_scores(sentence) \n",
    "    \n",
    "  "
   ]
  },
  {
   "cell_type": "markdown",
   "metadata": {},
   "source": [
    "I used this method because I found it to be the most simple and concise. While I was not able to figure out how to analyze the dataset itself, I was able to break it down sentence by sentence. I still feel that this method is efficient, but I'll be taking some time to look at implementing it towards the dataframe rather than manual entry of sentences."
   ]
  }
 ],
 "metadata": {
  "kernelspec": {
   "display_name": "Python 3",
   "language": "python",
   "name": "python3"
  },
  "language_info": {
   "codemirror_mode": {
    "name": "ipython",
    "version": 3
   },
   "file_extension": ".py",
   "mimetype": "text/x-python",
   "name": "python",
   "nbconvert_exporter": "python",
   "pygments_lexer": "ipython3",
   "version": "3.7.6"
  }
 },
 "nbformat": 4,
 "nbformat_minor": 4
}
